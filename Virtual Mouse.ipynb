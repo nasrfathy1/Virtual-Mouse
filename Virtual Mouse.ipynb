{
 "cells": [
  {
   "cell_type": "code",
   "execution_count": 1,
   "id": "61009588",
   "metadata": {},
   "outputs": [
    {
     "ename": "ModuleNotFoundError",
     "evalue": "No module named 'autopy'",
     "output_type": "error",
     "traceback": [
      "\u001b[1;31m---------------------------------------------------------------------------\u001b[0m",
      "\u001b[1;31mModuleNotFoundError\u001b[0m                       Traceback (most recent call last)",
      "Cell \u001b[1;32mIn[1], line 5\u001b[0m\n\u001b[0;32m      3\u001b[0m \u001b[38;5;28;01mimport\u001b[39;00m \u001b[38;5;21;01mcv2\u001b[39;00m\n\u001b[0;32m      4\u001b[0m \u001b[38;5;28;01mimport\u001b[39;00m \u001b[38;5;21;01mmediapipe\u001b[39;00m \u001b[38;5;28;01mas\u001b[39;00m \u001b[38;5;21;01mmp\u001b[39;00m\n\u001b[1;32m----> 5\u001b[0m \u001b[38;5;28;01mimport\u001b[39;00m \u001b[38;5;21;01mautopy\u001b[39;00m\n\u001b[0;32m      6\u001b[0m mphands\u001b[38;5;241m=\u001b[39mmp\u001b[38;5;241m.\u001b[39msolutions\u001b[38;5;241m.\u001b[39mhands\n\u001b[0;32m      7\u001b[0m hands\u001b[38;5;241m=\u001b[39mmphands\u001b[38;5;241m.\u001b[39mHands()\n",
      "\u001b[1;31mModuleNotFoundError\u001b[0m: No module named 'autopy'"
     ]
    }
   ],
   "source": [
    "import numpy as np\n",
    "import cv2\n",
    "import mediapipe as mp\n",
    "import autopy\n",
    "mphands=mp.solutions.hands\n",
    "hands=mphands.Hands()\n",
    "draw=mp.solutions.drawing_utils\n",
    "cap=cv2.VideoCapture(0)\n",
    "w_screen,h_screen=autopy.screen.size()\n",
    "\n",
    "def finger_coordinate(img):\n",
    "    coordinate=[]\n",
    "    for points in result.multi_hand_landmarks:\n",
    "            for idx,point in enumerate(points.landmark):\n",
    "                cx,cy=int(point.x*w),int(point.y*h)\n",
    "                cv2.circle(img,(cx,cy),3,(26,74,37),-1)\n",
    "                coordinate.append([cx,cy])\n",
    "                draw.draw_landmarks(img,points,mphands.HAND_CONNECTIONS)\n",
    "                if idx in [4]:\n",
    "                    cv2.circle(img,(cx,cy),10,(255,74,37),cv2.FILLED)\n",
    "            return coordinate\n",
    "        \n",
    "        \n",
    "def finger_count(coordinate):\n",
    "    finger=[]\n",
    "    idx_tip=[4,8,12,16,20]\n",
    "    if coordinate[4][0]<coordinate[3][0]:\n",
    "        finger.append(1)\n",
    "    else :\n",
    "        finger.append(0)\n",
    "    for i in range(1,5):\n",
    "        if coordinate[idx_tip[i]][1]<coordinate[idx_tip[i]-1][1]:\n",
    "            finger.append(1)\n",
    "        else :\n",
    "            finger.append(0)\n",
    "    return finger\n",
    "\n",
    "while cap.isOpened():\n",
    "    _,img=cap.read()\n",
    "    img=cv2.flip(img,1)\n",
    "    w,h,_=img.shape\n",
    "    frame=cv2.cvtColor(img,cv2.COLOR_BGR2RGB)\n",
    "    h,w,_=frame.shape\n",
    "    result=hands.process(frame)\n",
    "    if result.multi_hand_landmarks:\n",
    "        coordinate=finger_coordinate(img)\n",
    "\n",
    "        finger=finger_count(coordinate)\n",
    "        if finger[1]==1 and finger[0]==0:\n",
    "            cx,cy=coordinate[8]\n",
    "            cx=np.interp(cx,(0,w),(0,w_screen))\n",
    "            cy=np.interp(cy,(0,h),(0,h_screen))\n",
    "            \n",
    "\n",
    "            autopy.mouse.move(cx,cy)\n",
    "        if finger[0]==1:\n",
    "            autopy.mouse.click()\n",
    "    cv2.imshow('frame',img)\n",
    "    if cv2.waitKey(1)==27:\n",
    "        break\n",
    "cap.release()\n",
    "cv2.destroyAllWindows()\n",
    "    \n",
    "    \n",
    "    \n",
    "    \n",
    "    \n",
    "    \n"
   ]
  },
  {
   "cell_type": "code",
   "execution_count": null,
   "id": "6a6725db",
   "metadata": {},
   "outputs": [],
   "source": []
  }
 ],
 "metadata": {
  "kernelspec": {
   "display_name": "Python 3 (ipykernel)",
   "language": "python",
   "name": "python3"
  },
  "language_info": {
   "codemirror_mode": {
    "name": "ipython",
    "version": 3
   },
   "file_extension": ".py",
   "mimetype": "text/x-python",
   "name": "python",
   "nbconvert_exporter": "python",
   "pygments_lexer": "ipython3",
   "version": "3.10.9"
  }
 },
 "nbformat": 4,
 "nbformat_minor": 5
}
